


import pandas as pd
import matplotlib.pyplot as plt


github_dataset = 'https://raw.githubusercontent.com/truongng1/crime_trends_sj/refs/heads/main/datasets/'
df_2013 = pd.read_csv(github_dataset + '/911cals/policecalls2013.csv', sep  = ',')
df_2014 = pd.read_csv(github_dataset + '/911cals/policecalls2014.csv', sep  = ',')
df_2015 = pd.read_csv(github_dataset + '/911cals/policecalls2015.csv', sep  = ',')
df_2016 = pd.read_csv(github_dataset + '/911cals/policecalls2016.csv', sep  = ',')
df_2017 = pd.read_csv(github_dataset + '/911cals/policecalls2017.csv', sep  = ',')
df_2018 = pd.read_csv(github_dataset + '/911cals/policecalls2018.csv', sep  = ',')
df_2019 = pd.read_csv(github_dataset + '/911cals/policecalls2019.csv', sep  = ',')
df_2020 = pd.read_csv(github_dataset + '/911cals/policecalls2020.csv', sep  = ',')
df_2021 = pd.read_csv(github_dataset + '/911cals/policecalls2021.csv', sep  = ',')
df_2022 = pd.read_csv(github_dataset + '/911cals/policecalls2022.csv', sep  = ',')
df_2023 = pd.read_csv(github_dataset + '/911cals/policecalls2023.csv', sep  = ',')
df_2024 = pd.read_csv(github_dataset + '/911cals/policecalls2024.csv', sep  = ',')


df_2013.head()


frames = [df_2013, df_2014, df_2015, df_2016, df_2017, df_2018, df_2019, df_2020, df_2021, df_2022, df_2023, df_2024]


result = pd.concat(frames)


result


result = result.drop(['CDTS', 'EID', 'START_DATE', 'CALL_NUMBER','REPORT_DATE', 'FINAL_DISPO_CODE'], axis = 1)


result


result['CALL_TYPE'].unique()


call_type_mapping = {
    'Violent Crimes': ['MURDER', 'ASSAULT', 'ASSAULT WITH DEADLY WEAPON', 'ASSAULT WITH DEADLY WEAPON, GANG', 'ASSAULT ON AN OFFICER', 'BATTERY', 'BATTERY ON AN OFFICER', 'BATTERY ON A PEACE OFFICER', 'BATTERY, SERIOUS INJURY', 'BATTERY, GANG RELATED', 'PERSON STABBED', 'PERSON SHOT', 'SHOOTING INTO OCCP VEH OR DWELLING', 'CRIMINAL THREATS', 'KIDNAPPING', 'FALSE IMPRISONMENT', 'CHILD ABUSE', 'CHILD BEATING', 'ELDER/DEPENDENT ADULT ABUSE', 'DOMESTIC VIOLENCE', 'STALKING', 'HATE CRIMES'],
    'Property Crimes': ['THEFT', 'PETTY THEFT', 'GRAND THEFT', 'PURSE SNATCH ROBBERY', 'THEFT OF RECYCLABLES', 'THEFT, GANG RELATED', 'BURGLARY (460)', 'BURGLARY REPORT (460)', 'VEHICLE BURGLARY', 'ROBBERY', 'ARMED ROBBERY', 'ARMED ROBBERY, GANG RELATED', 'STRONG ARM ROBBERY', 'CARJACKING', 'STOLEN VEHICLE', 'STOLEN VEHICLE, GANG RELATED', 'RECOVERED STOLEN VEHICLE', 'RECEIVE/POSSESS STOLEN PROP', 'MALICIOUS MISCHIEF', 'MALICIOUS MISCHIEF, GANG RELATED', 'ARSON (447A)', 'TAMPERING WITH A VEHICLE', 'FORGERY', 'EMBEZZLEMENT', 'DEFRAUDING AN INNKEEPER', 'EXTORTION', 'EXTORTION, GANG RELATED'],
    'Weapons Related': ['FIREARMS DISCHARGED', 'BRANDISHING A WEAPON', 'BRANDISHING A WEAPON, GANG', 'CARRYING A CONCEALED WEAPON', 'ILLEGAL WEAPONS', 'ILLEGAL WEAPONS, GANG RELATED', 'DISTURBANCE, WEAPON', 'SUSPICIOUS PERSON W/ WEAPON'],
    'Public Disturbances': ['DISTURBANCE', 'DISTURBANCE, FAMILY', 'DISTURBANCE, FIGHT', 'DISTURBANCE, MUSIC', 'DISTURBANCE, NEIGHBOR', 'DISTURBANCE, UNKNOWN', 'DISTURBANCE, JUVENILE', 'DISTURBANCE, GANG', 'DISTURBANCE, JUVENILE GANG', 'DISTURBANCE, MOTORCYCLE', 'DISTURBANCE, FIRECRACKERS', 'THROWING SUBSTANCES AT VEHICLE', 'INDECENT EXPOSURE', 'OBSCENE OR HARASSING PH CALLS', 'NOISY ANIMAL'],
    'Substance Offenses': ['DRUNK IN PUBLIC', 'INTOXICATED PERSON', 'MISDEMEANOR DUI', 'FELONY DUI', 'POSSESSION OF MARIJUANA', 'POSSESSION OF NARCOTICS', 'POSSESSION OF NARCOTICS, GANG RELATED', 'POSSESSION OF CONTROLLED SUBSTANCE', 'POSSESSION OF CONTROLLED SUBSTANCE, GANG RELATED', 'USE OF CONTROLLED SUBSTANCE', 'NARCOTICS', 'NARCOTICS, GANG RELATED', 'SELL OR FURN ALCOHOL TO MINOR', 'MINOR IN POSSESSION OF ALCOHOL'],
    'Traffic and Vehicle Incidents': ['RECKLESS DRIVING', 'SPEEDING', 'SPEED CONTEST', 'MISDEMEANOR HIT AND RUN', 'FELONY HIT AND RUN', 'DRIVING W/SUSPENDED LICENSE', 'DRIVING W/SUS LIC-VEH IMPOUNDED', 'UNLICENSED DRIVER', 'VEHICLE ACCIDENT, PROPERTY DAMAGE', 'VEHICLE ACCIDENT, MINOR INJURIES', 'VEHICLE ACCIDENT, MAJOR INJURIES', 'VEHICLE ACCIDENT, UNKNOWN INJURIES', 'VEHICLE ACCIDENT, AMB DISPATCHED', 'TRAFFIC HAZARD', 'TRAFFIC CONTROL', 'VEHICLE STOP', 'PEDESTRIAN STOP', 'ABANDONED VEHICLE', 'SUSPICIOUS VEHICLE', 'PARKING VIOLATION', 'HANDICAPPED PARKING VIOLATION', 'EXPIRED REGISTRATION', 'ALTERED VIN NUMBER', 'JOYRIDING'],
    'Suspicious Activity': ['SUSPICIOUS PERSON', 'SUSPICIOUS FEMALE', 'SUSPICIOUS PERSON (GANG)', 'SUSPICIOUS CIRCUMSTANCES', 'SUSPICIOUS PACKAGE', 'PROWLER', 'OPEN DOOR', 'OPEN WINDOW'],
    'Public Safety': ['WELFARE CHECK', 'PERSON DOWN', 'SICK PERSON', 'INJURED PERSON', 'INJURED ANIMAL', 'MENTALLY DISTURBED PERSON', 'MENTALLY DISTURBED FEMALE', 'MISSING PERSON', 'MISSING FEMALE', 'MISSING JUVENILE', 'MISSING FEMALE JUVENILE', 'MISSING PERSON, MENTAL HANDICAP', 'FOUND, MISSING PERSON', 'FEMALE CALLING FOR HELP', 'PERSON CALLING FOR HELP', 'FIRE (SPECIFY TYPE)', 'EXPLOSION', 'BOMB THREAT', 'CORONERS CASE', 'PUBLIC SAFETY ASSISTANCE', 'FIRE DEPARTMENT REQUEST FOR PD'],
    'Juvenile and Minor Incidents': ['TRUANT (TABS)', 'W&I-UNDER JURIS OF JUV COURT', 'W&I UNCONTROLLABLE JUVENILE', 'JUVENILE VIOLATING COURT ORDER', 'MOLEST/ANNOY UNDER 18YRS'],
    'Miscellaneous Crimes and Violations': ['TRESPASSING', 'RESISTING ARREST', 'RESISTING ARREST, GANG RELATED', 'VIOLATION OF PROTECTIVE ORDER', 'PAROLE VIOLATION', 'SOLICITING FOR PROSTITUTION', 'SOLICITING FOR LEWD CONDUCT', 'BAD CHECKS', 'VAGRANT', 'CRUELTY TO ANIMALS', 'VICIOUS ANIMAL', 'ANIMAL COMPLAINT', 'DEAD ANIMAL', 'STRAY HORSE', 'GARBAGE COMPLAINT', 'CIVIL MATTER', 'OBSTRUCT STREETS OR SIDEWALK', 'REFUSAL TO LEAVE PROPERTY'],
    'Alarms and 911 Calls': ['ALARM', 'ALARM, AUDIBLE', 'ALARM, SILENT', 'ALARM, SVRN', 'UNK TYPE 911 CALL', 'UNK TYPE 911 CALL FROM CELL', 'UNK TYPE 911 CALL FROM RESD', 'UNK TYPE 911 CALL FROM BUSN', 'UNK TYPE 911 CALL FROM PAYPHON', 'UNK TYPE 911 CALL FROM VOIP TE', '911 CALL FROM AIRBORNE AIRCRAFT'],
    'Community Policing': ['COMMUNITY POLICING OFFICE', 'COMMUNITY POLICING SCHOOL', 'COMMUNITY POLICING MEETING', 'COMMUNITY POLICING -CITZ ASSIST', 'MEET THE CITIZEN', 'TAKE A REPORT', 'FOUND PROPERTY', 'REGISTRATION OF SEX OFFENDER']
}


def categorize_call_type(call_type):
    for category, types in call_type_mapping.items():
        if call_type in types:
            return category
    return 'OTHER'

result['CALL_TYPE'] = result['CALL_TYPE'].apply(lambda x: categorize_call_type(str(x)))


result['CALL_TYPE'].unique()


result['FINAL_DISPO'].unique()


decision_mapping = {
    'No Action or Unresolved': [
        'No Response',
        'Gone on Arrival/unable to locate',
        'Canceled',
        'No Disposition',
        'Unfounded event'
    ],
    'Report Related Outcomes': [
        'No report required; dispatch record only',
        'Report taken',
        'Supplemental report taken',
        'Prior case, follow-up activity only'
    ],
    'Citizen or Agency Assistance': [
        'Courtesy Service/Citizen or agency assist',
        'Stranded motorist assist'
    ],
    'Law Enforcement Actions': [
        'Arrest Made',
        'Arrest by Warrant',
        'Turned over To (TOT)',
        'Field Interview (F.I.) Completed',
        'Criminal Citation'
    ],
    'Traffic Citations': [
        'Traffic Citation Issued, Non-Hazardous Violation',
        'Traffic Citation Issued, Hazardous Violation'
    ]
}


def categorize_decision_type(decision_type):
    for category, types in decision_mapping.items():
        if decision_type in types:
            return category
    return 'OTHER'

result['FINAL_DISPO'] = result['FINAL_DISPO'].apply(lambda x: categorize_decision_type(str(x)))


result['FINAL_DISPO'].unique()


result



